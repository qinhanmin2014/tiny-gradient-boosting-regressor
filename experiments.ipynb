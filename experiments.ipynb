{
 "cells": [
  {
   "cell_type": "code",
   "execution_count": 1,
   "metadata": {},
   "outputs": [],
   "source": [
    "import numpy as np\n",
    "import pandas as pd\n",
    "from sklearn.metrics import mean_squared_error\n",
    "from GradientBoostingRegressor import GradientBoostingRegressor"
   ]
  },
  {
   "cell_type": "code",
   "execution_count": 2,
   "metadata": {},
   "outputs": [],
   "source": [
    "df_train = pd.read_csv('data/regression.train', header=None, sep='\\t')\n",
    "df_test = pd.read_csv('data/regression.test', header=None, sep='\\t')\n",
    "y_train = df_train[0].values\n",
    "y_test = df_test[0].values\n",
    "X_train = df_train.drop(0, axis=1).values\n",
    "X_test = df_test.drop(0, axis=1).values"
   ]
  },
  {
   "cell_type": "code",
   "execution_count": 3,
   "metadata": {},
   "outputs": [
    {
     "name": "stdout",
     "output_type": "stream",
     "text": [
      "Iteration: 1  Train Loss: 0.20843002  Val Loss: 0.20741951\n",
      "Iteration: 2  Train Loss: 0.19658527  Val Loss: 0.20081958\n",
      "Iteration: 3  Train Loss: 0.19012479  Val Loss: 0.19769189\n",
      "Iteration: 4  Train Loss: 0.18697714  Val Loss: 0.19393727\n",
      "Iteration: 5  Train Loss: 0.18452566  Val Loss: 0.19162197\n",
      "Iteration: 6  Train Loss: 0.18347792  Val Loss: 0.19247375\n",
      "Iteration: 7  Train Loss: 0.18197433  Val Loss: 0.19145186\n",
      "Iteration: 8  Train Loss: 0.18278353  Val Loss: 0.19340768\n",
      "Iteration: 9  Train Loss: 0.18122458  Val Loss: 0.19200595\n",
      "Iteration: 10  Train Loss: 0.18026935  Val Loss: 0.19159117\n",
      "Iteration: 11  Train Loss: 0.17983054  Val Loss: 0.19150433\n",
      "Iteration: 12  Train Loss: 0.17968739  Val Loss: 0.19251485\n",
      "Early Stopping  Best Iteration: 7  Best Val Loss: 0.191452\n",
      "Training Finished\n"
     ]
    }
   ],
   "source": [
    "reg = GradientBoostingRegressor()\n",
    "reg.fit(X_train, y_train, X_test, y_test)"
   ]
  },
  {
   "cell_type": "code",
   "execution_count": 4,
   "metadata": {},
   "outputs": [
    {
     "data": {
      "text/plain": [
       "0.4375521171244936"
      ]
     },
     "execution_count": 4,
     "metadata": {},
     "output_type": "execute_result"
    }
   ],
   "source": [
    "y_pred = reg.predict(X_test)\n",
    "np.sqrt(mean_squared_error(y_test, y_pred))"
   ]
  },
  {
   "cell_type": "code",
   "execution_count": 5,
   "metadata": {},
   "outputs": [],
   "source": [
    "# comparing with LightGBM\n",
    "# reference: https://github.com/Microsoft/LightGBM/blob/master/examples/python-guide/simple_example.py"
   ]
  },
  {
   "cell_type": "code",
   "execution_count": 6,
   "metadata": {},
   "outputs": [
    {
     "name": "stdout",
     "output_type": "stream",
     "text": [
      "Loading data...\n",
      "Starting training...\n",
      "[1]\tvalid_0's l1: 0.492841\tvalid_0's l2: 0.243898\n",
      "Training until validation scores don't improve for 5 rounds.\n",
      "[2]\tvalid_0's l1: 0.489327\tvalid_0's l2: 0.240605\n",
      "[3]\tvalid_0's l1: 0.484931\tvalid_0's l2: 0.236472\n",
      "[4]\tvalid_0's l1: 0.480567\tvalid_0's l2: 0.232586\n",
      "[5]\tvalid_0's l1: 0.475965\tvalid_0's l2: 0.22865\n",
      "[6]\tvalid_0's l1: 0.472861\tvalid_0's l2: 0.226187\n",
      "[7]\tvalid_0's l1: 0.469847\tvalid_0's l2: 0.223738\n",
      "[8]\tvalid_0's l1: 0.466258\tvalid_0's l2: 0.221012\n",
      "[9]\tvalid_0's l1: 0.462751\tvalid_0's l2: 0.218429\n",
      "[10]\tvalid_0's l1: 0.458755\tvalid_0's l2: 0.215505\n",
      "[11]\tvalid_0's l1: 0.455252\tvalid_0's l2: 0.213027\n",
      "[12]\tvalid_0's l1: 0.452051\tvalid_0's l2: 0.210809\n",
      "[13]\tvalid_0's l1: 0.448764\tvalid_0's l2: 0.208612\n",
      "[14]\tvalid_0's l1: 0.446667\tvalid_0's l2: 0.207468\n",
      "[15]\tvalid_0's l1: 0.444211\tvalid_0's l2: 0.206009\n",
      "[16]\tvalid_0's l1: 0.44186\tvalid_0's l2: 0.20465\n",
      "[17]\tvalid_0's l1: 0.438508\tvalid_0's l2: 0.202489\n",
      "[18]\tvalid_0's l1: 0.435919\tvalid_0's l2: 0.200668\n",
      "[19]\tvalid_0's l1: 0.433348\tvalid_0's l2: 0.19925\n",
      "[20]\tvalid_0's l1: 0.431211\tvalid_0's l2: 0.198136\n",
      "Did not meet early stopping. Best iteration is:\n",
      "[20]\tvalid_0's l1: 0.431211\tvalid_0's l2: 0.198136\n",
      "Starting predicting...\n",
      "The rmse of prediction is: 0.44512434910807497\n"
     ]
    }
   ],
   "source": [
    "import lightgbm as lgb\n",
    "import pandas as pd\n",
    "from sklearn.metrics import mean_squared_error\n",
    "\n",
    "print('Loading data...')\n",
    "# load or create your dataset\n",
    "df_train = pd.read_csv('data/regression.train', header=None, sep='\\t')\n",
    "df_test = pd.read_csv('data/regression.test', header=None, sep='\\t')\n",
    "\n",
    "y_train = df_train[0]\n",
    "y_test = df_test[0]\n",
    "X_train = df_train.drop(0, axis=1)\n",
    "X_test = df_test.drop(0, axis=1)\n",
    "\n",
    "# create dataset for lightgbm\n",
    "lgb_train = lgb.Dataset(X_train, y_train)\n",
    "lgb_eval = lgb.Dataset(X_test, y_test, reference=lgb_train)\n",
    "\n",
    "# specify your configurations as a dict\n",
    "params = {\n",
    "    'boosting_type': 'gbdt',\n",
    "    'objective': 'regression',\n",
    "    'metric': {'l2', 'l1'},\n",
    "    'num_leaves': 31,\n",
    "    'learning_rate': 0.05,\n",
    "    'feature_fraction': 0.9,\n",
    "    'bagging_fraction': 0.8,\n",
    "    'bagging_freq': 5,\n",
    "    'verbose': 0\n",
    "}\n",
    "\n",
    "print('Starting training...')\n",
    "# train\n",
    "gbm = lgb.train(params,\n",
    "                lgb_train,\n",
    "                num_boost_round=20,\n",
    "                valid_sets=lgb_eval,\n",
    "                early_stopping_rounds=5)\n",
    "\n",
    "print('Starting predicting...')\n",
    "# predict\n",
    "y_pred = gbm.predict(X_test, num_iteration=gbm.best_iteration)\n",
    "# eval\n",
    "print('The rmse of prediction is:', mean_squared_error(y_test, y_pred) ** 0.5)"
   ]
  }
 ],
 "metadata": {
  "kernelspec": {
   "display_name": "Python 3",
   "language": "python",
   "name": "python3"
  },
  "language_info": {
   "codemirror_mode": {
    "name": "ipython",
    "version": 3
   },
   "file_extension": ".py",
   "mimetype": "text/x-python",
   "name": "python",
   "nbconvert_exporter": "python",
   "pygments_lexer": "ipython3",
   "version": "3.7.3"
  }
 },
 "nbformat": 4,
 "nbformat_minor": 2
}
